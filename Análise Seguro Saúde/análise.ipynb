{
 "cells": [
  {
   "cell_type": "code",
   "execution_count": null,
   "id": "35e17131",
   "metadata": {},
   "outputs": [],
   "source": [
    "#here to analyze and find interesting patterns to understand data from year 2014,2015 and 2016."
   ]
  },
  {
   "cell_type": "code",
   "execution_count": 3,
   "id": "aacc2546",
   "metadata": {},
   "outputs": [],
   "source": [
    "import numpy as np # linear algebra\n",
    "import pandas as pd # data processing, CSV file I/O (e.g. pd.read_csv)\n"
   ]
  },
  {
   "cell_type": "code",
   "execution_count": 2,
   "id": "c759b96f",
   "metadata": {},
   "outputs": [
    {
     "data": {
      "text/html": [
       "        <script type=\"text/javascript\">\n",
       "        window.PlotlyConfig = {MathJaxConfig: 'local'};\n",
       "        if (window.MathJax && window.MathJax.Hub && window.MathJax.Hub.Config) {window.MathJax.Hub.Config({SVG: {font: \"STIX-Web\"}});}\n",
       "        if (typeof require !== 'undefined') {\n",
       "        require.undef(\"plotly\");\n",
       "        requirejs.config({\n",
       "            paths: {\n",
       "                'plotly': ['https://cdn.plot.ly/plotly-2.12.1.min']\n",
       "            }\n",
       "        });\n",
       "        require(['plotly'], function(Plotly) {\n",
       "            window._Plotly = Plotly;\n",
       "        });\n",
       "        }\n",
       "        </script>\n",
       "        "
      ]
     },
     "metadata": {},
     "output_type": "display_data"
    }
   ],
   "source": [
    "#other imports\n",
    "\n",
    "import matplotlib.pyplot as plt\n",
    "import plotly as py\n",
    "import plotly.graph_objs as go\n",
    "from plotly.offline import download_plotlyjs,init_notebook_mode,plot,iplot\n",
    "init_notebook_mode(connected=True)\n",
    "import seaborn as sns \n",
    "import numpy as np\n",
    "import pandas as pd\n",
    "import numpy as np\n",
    "import random as rnd\n",
    "from sklearn.metrics import confusion_matrix\n",
    "import seaborn as sns\n",
    "import matplotlib.gridspec as gridspec\n",
    "from sklearn.preprocessing import StandardScaler\n",
    "from numpy import genfromtxt\n",
    "from scipy.stats import multivariate_normal\n",
    "from sklearn.metrics import f1_score\n",
    "from sklearn.metrics import recall_score , average_precision_score\n",
    "from sklearn.metrics import precision_score, precision_recall_curve\n",
    "%matplotlib inline"
   ]
  },
  {
   "cell_type": "code",
   "execution_count": 9,
   "id": "9c877e7b",
   "metadata": {},
   "outputs": [
    {
     "name": "stderr",
     "output_type": "stream",
     "text": [
      "C:\\Users\\BRPC015042\\AppData\\Local\\Temp\\ipykernel_9808\\2421995997.py:1: DtypeWarning:\n",
      "\n",
      "Columns (3,6,9,10,16,17,18) have mixed types. Specify dtype option on import or set low_memory=False.\n",
      "\n"
     ]
    }
   ],
   "source": [
    "CostShare_df = pd.read_csv(\"C:/Users/BRPC015042/Desktop/Python/kaggle/Seguro saude EUa/BenefitsCostSharing.csv\")"
   ]
  },
  {
   "cell_type": "code",
   "execution_count": 10,
   "id": "04059220",
   "metadata": {},
   "outputs": [
    {
     "data": {
      "text/html": [
       "<div>\n",
       "<style scoped>\n",
       "    .dataframe tbody tr th:only-of-type {\n",
       "        vertical-align: middle;\n",
       "    }\n",
       "\n",
       "    .dataframe tbody tr th {\n",
       "        vertical-align: top;\n",
       "    }\n",
       "\n",
       "    .dataframe thead th {\n",
       "        text-align: right;\n",
       "    }\n",
       "</style>\n",
       "<table border=\"1\" class=\"dataframe\">\n",
       "  <thead>\n",
       "    <tr style=\"text-align: right;\">\n",
       "      <th></th>\n",
       "      <th>BenefitName</th>\n",
       "      <th>BusinessYear</th>\n",
       "      <th>CoinsInnTier1</th>\n",
       "      <th>CoinsInnTier2</th>\n",
       "      <th>CoinsOutofNet</th>\n",
       "      <th>CopayInnTier1</th>\n",
       "      <th>CopayInnTier2</th>\n",
       "      <th>CopayOutofNet</th>\n",
       "      <th>EHBVarReason</th>\n",
       "      <th>Exclusions</th>\n",
       "      <th>...</th>\n",
       "      <th>LimitUnit</th>\n",
       "      <th>MinimumStay</th>\n",
       "      <th>PlanId</th>\n",
       "      <th>QuantLimitOnSvc</th>\n",
       "      <th>RowNumber</th>\n",
       "      <th>SourceName</th>\n",
       "      <th>StandardComponentId</th>\n",
       "      <th>StateCode</th>\n",
       "      <th>StateCode2</th>\n",
       "      <th>VersionNum</th>\n",
       "    </tr>\n",
       "  </thead>\n",
       "  <tbody>\n",
       "    <tr>\n",
       "      <th>0</th>\n",
       "      <td>Routine Dental Services (Adult)</td>\n",
       "      <td>2014</td>\n",
       "      <td>20%</td>\n",
       "      <td>NaN</td>\n",
       "      <td>20%</td>\n",
       "      <td>No Charge</td>\n",
       "      <td>NaN</td>\n",
       "      <td>No Charge</td>\n",
       "      <td>Above EHB</td>\n",
       "      <td>NaN</td>\n",
       "      <td>...</td>\n",
       "      <td>Dollars per Year</td>\n",
       "      <td>NaN</td>\n",
       "      <td>21989AK0010001-00</td>\n",
       "      <td>Yes</td>\n",
       "      <td>68</td>\n",
       "      <td>HIOS</td>\n",
       "      <td>21989AK0010001</td>\n",
       "      <td>AK</td>\n",
       "      <td>AK</td>\n",
       "      <td>6</td>\n",
       "    </tr>\n",
       "    <tr>\n",
       "      <th>1</th>\n",
       "      <td>Dental Check-Up for Children</td>\n",
       "      <td>2014</td>\n",
       "      <td>20%</td>\n",
       "      <td>NaN</td>\n",
       "      <td>20%</td>\n",
       "      <td>No Charge</td>\n",
       "      <td>NaN</td>\n",
       "      <td>No Charge</td>\n",
       "      <td>Substantially Equal</td>\n",
       "      <td>NaN</td>\n",
       "      <td>...</td>\n",
       "      <td>Visit(s) per 6 Months</td>\n",
       "      <td>NaN</td>\n",
       "      <td>21989AK0010001-00</td>\n",
       "      <td>Yes</td>\n",
       "      <td>104</td>\n",
       "      <td>HIOS</td>\n",
       "      <td>21989AK0010001</td>\n",
       "      <td>AK</td>\n",
       "      <td>AK</td>\n",
       "      <td>6</td>\n",
       "    </tr>\n",
       "    <tr>\n",
       "      <th>2</th>\n",
       "      <td>Basic Dental Care - Child</td>\n",
       "      <td>2014</td>\n",
       "      <td>40%</td>\n",
       "      <td>NaN</td>\n",
       "      <td>40%</td>\n",
       "      <td>No Charge</td>\n",
       "      <td>NaN</td>\n",
       "      <td>No Charge</td>\n",
       "      <td>Substantially Equal</td>\n",
       "      <td>NaN</td>\n",
       "      <td>...</td>\n",
       "      <td>NaN</td>\n",
       "      <td>NaN</td>\n",
       "      <td>21989AK0010001-00</td>\n",
       "      <td>NaN</td>\n",
       "      <td>110</td>\n",
       "      <td>HIOS</td>\n",
       "      <td>21989AK0010001</td>\n",
       "      <td>AK</td>\n",
       "      <td>AK</td>\n",
       "      <td>6</td>\n",
       "    </tr>\n",
       "    <tr>\n",
       "      <th>3</th>\n",
       "      <td>Orthodontia - Child</td>\n",
       "      <td>2014</td>\n",
       "      <td>50%</td>\n",
       "      <td>NaN</td>\n",
       "      <td>50%</td>\n",
       "      <td>No Charge</td>\n",
       "      <td>NaN</td>\n",
       "      <td>No Charge</td>\n",
       "      <td>Additional EHB Benefit</td>\n",
       "      <td>NaN</td>\n",
       "      <td>...</td>\n",
       "      <td>NaN</td>\n",
       "      <td>NaN</td>\n",
       "      <td>21989AK0010001-00</td>\n",
       "      <td>NaN</td>\n",
       "      <td>111</td>\n",
       "      <td>HIOS</td>\n",
       "      <td>21989AK0010001</td>\n",
       "      <td>AK</td>\n",
       "      <td>AK</td>\n",
       "      <td>6</td>\n",
       "    </tr>\n",
       "    <tr>\n",
       "      <th>4</th>\n",
       "      <td>Major Dental Care - Child</td>\n",
       "      <td>2014</td>\n",
       "      <td>50%</td>\n",
       "      <td>NaN</td>\n",
       "      <td>50%</td>\n",
       "      <td>No Charge</td>\n",
       "      <td>NaN</td>\n",
       "      <td>No Charge</td>\n",
       "      <td>Substantially Equal</td>\n",
       "      <td>NaN</td>\n",
       "      <td>...</td>\n",
       "      <td>NaN</td>\n",
       "      <td>NaN</td>\n",
       "      <td>21989AK0010001-00</td>\n",
       "      <td>NaN</td>\n",
       "      <td>112</td>\n",
       "      <td>HIOS</td>\n",
       "      <td>21989AK0010001</td>\n",
       "      <td>AK</td>\n",
       "      <td>AK</td>\n",
       "      <td>6</td>\n",
       "    </tr>\n",
       "    <tr>\n",
       "      <th>5</th>\n",
       "      <td>Basic Dental Care - Adult</td>\n",
       "      <td>2014</td>\n",
       "      <td>40%</td>\n",
       "      <td>NaN</td>\n",
       "      <td>40%</td>\n",
       "      <td>No Charge</td>\n",
       "      <td>NaN</td>\n",
       "      <td>No Charge</td>\n",
       "      <td>Above EHB</td>\n",
       "      <td>NaN</td>\n",
       "      <td>...</td>\n",
       "      <td>Dollars per Year</td>\n",
       "      <td>NaN</td>\n",
       "      <td>21989AK0010001-00</td>\n",
       "      <td>Yes</td>\n",
       "      <td>113</td>\n",
       "      <td>HIOS</td>\n",
       "      <td>21989AK0010001</td>\n",
       "      <td>AK</td>\n",
       "      <td>AK</td>\n",
       "      <td>6</td>\n",
       "    </tr>\n",
       "    <tr>\n",
       "      <th>6</th>\n",
       "      <td>Orthodontia - Adult</td>\n",
       "      <td>2014</td>\n",
       "      <td>NaN</td>\n",
       "      <td>NaN</td>\n",
       "      <td>NaN</td>\n",
       "      <td>NaN</td>\n",
       "      <td>NaN</td>\n",
       "      <td>NaN</td>\n",
       "      <td>NaN</td>\n",
       "      <td>NaN</td>\n",
       "      <td>...</td>\n",
       "      <td>NaN</td>\n",
       "      <td>NaN</td>\n",
       "      <td>21989AK0010001-00</td>\n",
       "      <td>NaN</td>\n",
       "      <td>114</td>\n",
       "      <td>HIOS</td>\n",
       "      <td>21989AK0010001</td>\n",
       "      <td>AK</td>\n",
       "      <td>AK</td>\n",
       "      <td>6</td>\n",
       "    </tr>\n",
       "    <tr>\n",
       "      <th>7</th>\n",
       "      <td>Major Dental Care - Adult</td>\n",
       "      <td>2014</td>\n",
       "      <td>50%</td>\n",
       "      <td>NaN</td>\n",
       "      <td>50%</td>\n",
       "      <td>No Charge</td>\n",
       "      <td>NaN</td>\n",
       "      <td>No Charge</td>\n",
       "      <td>Above EHB</td>\n",
       "      <td>NaN</td>\n",
       "      <td>...</td>\n",
       "      <td>Dollars per Year</td>\n",
       "      <td>NaN</td>\n",
       "      <td>21989AK0010001-00</td>\n",
       "      <td>Yes</td>\n",
       "      <td>115</td>\n",
       "      <td>HIOS</td>\n",
       "      <td>21989AK0010001</td>\n",
       "      <td>AK</td>\n",
       "      <td>AK</td>\n",
       "      <td>6</td>\n",
       "    </tr>\n",
       "    <tr>\n",
       "      <th>8</th>\n",
       "      <td>Accidental Dental</td>\n",
       "      <td>2014</td>\n",
       "      <td>NaN</td>\n",
       "      <td>NaN</td>\n",
       "      <td>NaN</td>\n",
       "      <td>NaN</td>\n",
       "      <td>NaN</td>\n",
       "      <td>NaN</td>\n",
       "      <td>NaN</td>\n",
       "      <td>NaN</td>\n",
       "      <td>...</td>\n",
       "      <td>NaN</td>\n",
       "      <td>NaN</td>\n",
       "      <td>21989AK0010001-00</td>\n",
       "      <td>NaN</td>\n",
       "      <td>118</td>\n",
       "      <td>HIOS</td>\n",
       "      <td>21989AK0010001</td>\n",
       "      <td>AK</td>\n",
       "      <td>AK</td>\n",
       "      <td>6</td>\n",
       "    </tr>\n",
       "    <tr>\n",
       "      <th>9</th>\n",
       "      <td>Routine Dental Services (Adult)</td>\n",
       "      <td>2014</td>\n",
       "      <td>20%</td>\n",
       "      <td>NaN</td>\n",
       "      <td>20%</td>\n",
       "      <td>No Charge</td>\n",
       "      <td>NaN</td>\n",
       "      <td>No Charge</td>\n",
       "      <td>Above EHB</td>\n",
       "      <td>NaN</td>\n",
       "      <td>...</td>\n",
       "      <td>Dollars per Year</td>\n",
       "      <td>NaN</td>\n",
       "      <td>21989AK0010001-01</td>\n",
       "      <td>Yes</td>\n",
       "      <td>68</td>\n",
       "      <td>HIOS</td>\n",
       "      <td>21989AK0010001</td>\n",
       "      <td>AK</td>\n",
       "      <td>AK</td>\n",
       "      <td>6</td>\n",
       "    </tr>\n",
       "  </tbody>\n",
       "</table>\n",
       "<p>10 rows × 32 columns</p>\n",
       "</div>"
      ],
      "text/plain": [
       "                       BenefitName  BusinessYear CoinsInnTier1 CoinsInnTier2  \\\n",
       "0  Routine Dental Services (Adult)          2014           20%           NaN   \n",
       "1     Dental Check-Up for Children          2014           20%           NaN   \n",
       "2        Basic Dental Care - Child          2014           40%           NaN   \n",
       "3              Orthodontia - Child          2014           50%           NaN   \n",
       "4        Major Dental Care - Child          2014           50%           NaN   \n",
       "5        Basic Dental Care - Adult          2014           40%           NaN   \n",
       "6              Orthodontia - Adult          2014           NaN           NaN   \n",
       "7        Major Dental Care - Adult          2014           50%           NaN   \n",
       "8                Accidental Dental          2014           NaN           NaN   \n",
       "9  Routine Dental Services (Adult)          2014           20%           NaN   \n",
       "\n",
       "  CoinsOutofNet CopayInnTier1 CopayInnTier2 CopayOutofNet  \\\n",
       "0           20%     No Charge           NaN     No Charge   \n",
       "1           20%     No Charge           NaN     No Charge   \n",
       "2           40%     No Charge           NaN     No Charge   \n",
       "3           50%     No Charge           NaN     No Charge   \n",
       "4           50%     No Charge           NaN     No Charge   \n",
       "5           40%     No Charge           NaN     No Charge   \n",
       "6           NaN           NaN           NaN           NaN   \n",
       "7           50%     No Charge           NaN     No Charge   \n",
       "8           NaN           NaN           NaN           NaN   \n",
       "9           20%     No Charge           NaN     No Charge   \n",
       "\n",
       "             EHBVarReason Exclusions  ...              LimitUnit MinimumStay  \\\n",
       "0               Above EHB        NaN  ...       Dollars per Year         NaN   \n",
       "1     Substantially Equal        NaN  ...  Visit(s) per 6 Months         NaN   \n",
       "2     Substantially Equal        NaN  ...                    NaN         NaN   \n",
       "3  Additional EHB Benefit        NaN  ...                    NaN         NaN   \n",
       "4     Substantially Equal        NaN  ...                    NaN         NaN   \n",
       "5               Above EHB        NaN  ...       Dollars per Year         NaN   \n",
       "6                     NaN        NaN  ...                    NaN         NaN   \n",
       "7               Above EHB        NaN  ...       Dollars per Year         NaN   \n",
       "8                     NaN        NaN  ...                    NaN         NaN   \n",
       "9               Above EHB        NaN  ...       Dollars per Year         NaN   \n",
       "\n",
       "              PlanId QuantLimitOnSvc RowNumber SourceName StandardComponentId  \\\n",
       "0  21989AK0010001-00             Yes        68       HIOS      21989AK0010001   \n",
       "1  21989AK0010001-00             Yes       104       HIOS      21989AK0010001   \n",
       "2  21989AK0010001-00             NaN       110       HIOS      21989AK0010001   \n",
       "3  21989AK0010001-00             NaN       111       HIOS      21989AK0010001   \n",
       "4  21989AK0010001-00             NaN       112       HIOS      21989AK0010001   \n",
       "5  21989AK0010001-00             Yes       113       HIOS      21989AK0010001   \n",
       "6  21989AK0010001-00             NaN       114       HIOS      21989AK0010001   \n",
       "7  21989AK0010001-00             Yes       115       HIOS      21989AK0010001   \n",
       "8  21989AK0010001-00             NaN       118       HIOS      21989AK0010001   \n",
       "9  21989AK0010001-01             Yes        68       HIOS      21989AK0010001   \n",
       "\n",
       "  StateCode StateCode2  VersionNum  \n",
       "0        AK         AK           6  \n",
       "1        AK         AK           6  \n",
       "2        AK         AK           6  \n",
       "3        AK         AK           6  \n",
       "4        AK         AK           6  \n",
       "5        AK         AK           6  \n",
       "6        AK         AK           6  \n",
       "7        AK         AK           6  \n",
       "8        AK         AK           6  \n",
       "9        AK         AK           6  \n",
       "\n",
       "[10 rows x 32 columns]"
      ]
     },
     "execution_count": 10,
     "metadata": {},
     "output_type": "execute_result"
    }
   ],
   "source": [
    "CostShare_df.head(n=10)"
   ]
  },
  {
   "cell_type": "code",
   "execution_count": 11,
   "id": "70423522",
   "metadata": {},
   "outputs": [
    {
     "data": {
      "text/plain": [
       "BenefitName                  0\n",
       "BusinessYear                 0\n",
       "CoinsInnTier1          1113847\n",
       "CoinsInnTier2          4571587\n",
       "CoinsOutofNet          1113847\n",
       "CopayInnTier1          1113847\n",
       "CopayInnTier2          4571587\n",
       "CopayOutofNet          1113849\n",
       "EHBVarReason           3020737\n",
       "Exclusions             4572247\n",
       "Explanation            4075700\n",
       "ImportDate                   0\n",
       "IsCovered               215980\n",
       "IsEHB                  1817362\n",
       "IsExclFromInnMOOP       983986\n",
       "IsExclFromOonMOOP       982626\n",
       "IsStateMandate         4250463\n",
       "IsSubjToDedTier1       2465877\n",
       "IsSubjToDedTier2       2466054\n",
       "IssuerId                     0\n",
       "IssuerId2                    0\n",
       "LimitQty               4360725\n",
       "LimitUnit              4360539\n",
       "MinimumStay            5031681\n",
       "PlanId                       0\n",
       "QuantLimitOnSvc        3264532\n",
       "RowNumber                    0\n",
       "SourceName                   0\n",
       "StandardComponentId          0\n",
       "StateCode                    0\n",
       "StateCode2                   0\n",
       "VersionNum                   0\n",
       "dtype: int64"
      ]
     },
     "execution_count": 11,
     "metadata": {},
     "output_type": "execute_result"
    }
   ],
   "source": [
    "# Fill empty and NaNs values with NaN\n",
    "CostShare_df = CostShare_df.fillna(np.nan)\n",
    "\n",
    "# Check for Null values\n",
    "CostShare_df.isnull().sum()"
   ]
  },
  {
   "cell_type": "code",
   "execution_count": 12,
   "id": "6792f47d",
   "metadata": {},
   "outputs": [
    {
     "name": "stdout",
     "output_type": "stream",
     "text": [
      "Total records in file:5048408\n",
      "Unique benefits pesent in the file:861\n"
     ]
    }
   ],
   "source": [
    "print ('Total records in file:%d' %CostShare_df.BenefitName.count())\n",
    "print ('Unique benefits pesent in the file:%d' %CostShare_df.BenefitName.nunique())"
   ]
  },
  {
   "cell_type": "code",
   "execution_count": 13,
   "id": "4d7ce8f4",
   "metadata": {},
   "outputs": [
    {
     "data": {
      "text/html": [
       "<div>\n",
       "<style scoped>\n",
       "    .dataframe tbody tr th:only-of-type {\n",
       "        vertical-align: middle;\n",
       "    }\n",
       "\n",
       "    .dataframe tbody tr th {\n",
       "        vertical-align: top;\n",
       "    }\n",
       "\n",
       "    .dataframe thead th {\n",
       "        text-align: right;\n",
       "    }\n",
       "</style>\n",
       "<table border=\"1\" class=\"dataframe\">\n",
       "  <thead>\n",
       "    <tr style=\"text-align: right;\">\n",
       "      <th></th>\n",
       "      <th>BusinessYear</th>\n",
       "      <th>IssuerId</th>\n",
       "      <th>IssuerId2</th>\n",
       "      <th>LimitQty</th>\n",
       "      <th>MinimumStay</th>\n",
       "      <th>RowNumber</th>\n",
       "      <th>VersionNum</th>\n",
       "    </tr>\n",
       "  </thead>\n",
       "  <tbody>\n",
       "    <tr>\n",
       "      <th>count</th>\n",
       "      <td>5.048408e+06</td>\n",
       "      <td>5.048408e+06</td>\n",
       "      <td>5.048408e+06</td>\n",
       "      <td>687683.000000</td>\n",
       "      <td>16727.000000</td>\n",
       "      <td>5.048408e+06</td>\n",
       "      <td>5.048408e+06</td>\n",
       "    </tr>\n",
       "    <tr>\n",
       "      <th>mean</th>\n",
       "      <td>2.015127e+03</td>\n",
       "      <td>5.220360e+04</td>\n",
       "      <td>5.220360e+04</td>\n",
       "      <td>142.399374</td>\n",
       "      <td>47.937048</td>\n",
       "      <td>9.839018e+01</td>\n",
       "      <td>7.637094e+00</td>\n",
       "    </tr>\n",
       "    <tr>\n",
       "      <th>std</th>\n",
       "      <td>7.563664e-01</td>\n",
       "      <td>2.592498e+04</td>\n",
       "      <td>2.592498e+04</td>\n",
       "      <td>1723.372817</td>\n",
       "      <td>5.892297</td>\n",
       "      <td>2.177890e+01</td>\n",
       "      <td>3.803627e+00</td>\n",
       "    </tr>\n",
       "    <tr>\n",
       "      <th>min</th>\n",
       "      <td>2.014000e+03</td>\n",
       "      <td>1.004600e+04</td>\n",
       "      <td>1.004600e+04</td>\n",
       "      <td>1.000000</td>\n",
       "      <td>5.000000</td>\n",
       "      <td>6.100000e+01</td>\n",
       "      <td>1.000000e+00</td>\n",
       "    </tr>\n",
       "    <tr>\n",
       "      <th>25%</th>\n",
       "      <td>2.015000e+03</td>\n",
       "      <td>3.253600e+04</td>\n",
       "      <td>3.253600e+04</td>\n",
       "      <td>1.000000</td>\n",
       "      <td>48.000000</td>\n",
       "      <td>8.000000e+01</td>\n",
       "      <td>5.000000e+00</td>\n",
       "    </tr>\n",
       "    <tr>\n",
       "      <th>50%</th>\n",
       "      <td>2.015000e+03</td>\n",
       "      <td>4.839600e+04</td>\n",
       "      <td>4.839600e+04</td>\n",
       "      <td>20.000000</td>\n",
       "      <td>48.000000</td>\n",
       "      <td>9.900000e+01</td>\n",
       "      <td>7.000000e+00</td>\n",
       "    </tr>\n",
       "    <tr>\n",
       "      <th>75%</th>\n",
       "      <td>2.016000e+03</td>\n",
       "      <td>7.498000e+04</td>\n",
       "      <td>7.498000e+04</td>\n",
       "      <td>40.000000</td>\n",
       "      <td>48.000000</td>\n",
       "      <td>1.170000e+02</td>\n",
       "      <td>9.000000e+00</td>\n",
       "    </tr>\n",
       "    <tr>\n",
       "      <th>max</th>\n",
       "      <td>2.016000e+03</td>\n",
       "      <td>9.996900e+04</td>\n",
       "      <td>9.996900e+04</td>\n",
       "      <td>75000.000000</td>\n",
       "      <td>90.000000</td>\n",
       "      <td>1.560000e+02</td>\n",
       "      <td>2.400000e+01</td>\n",
       "    </tr>\n",
       "  </tbody>\n",
       "</table>\n",
       "</div>"
      ],
      "text/plain": [
       "       BusinessYear      IssuerId     IssuerId2       LimitQty   MinimumStay  \\\n",
       "count  5.048408e+06  5.048408e+06  5.048408e+06  687683.000000  16727.000000   \n",
       "mean   2.015127e+03  5.220360e+04  5.220360e+04     142.399374     47.937048   \n",
       "std    7.563664e-01  2.592498e+04  2.592498e+04    1723.372817      5.892297   \n",
       "min    2.014000e+03  1.004600e+04  1.004600e+04       1.000000      5.000000   \n",
       "25%    2.015000e+03  3.253600e+04  3.253600e+04       1.000000     48.000000   \n",
       "50%    2.015000e+03  4.839600e+04  4.839600e+04      20.000000     48.000000   \n",
       "75%    2.016000e+03  7.498000e+04  7.498000e+04      40.000000     48.000000   \n",
       "max    2.016000e+03  9.996900e+04  9.996900e+04   75000.000000     90.000000   \n",
       "\n",
       "          RowNumber    VersionNum  \n",
       "count  5.048408e+06  5.048408e+06  \n",
       "mean   9.839018e+01  7.637094e+00  \n",
       "std    2.177890e+01  3.803627e+00  \n",
       "min    6.100000e+01  1.000000e+00  \n",
       "25%    8.000000e+01  5.000000e+00  \n",
       "50%    9.900000e+01  7.000000e+00  \n",
       "75%    1.170000e+02  9.000000e+00  \n",
       "max    1.560000e+02  2.400000e+01  "
      ]
     },
     "execution_count": 13,
     "metadata": {},
     "output_type": "execute_result"
    }
   ],
   "source": [
    "# Summary and statistics\n",
    "CostShare_df.describe()"
   ]
  },
  {
   "cell_type": "code",
   "execution_count": 14,
   "id": "bcde8d58",
   "metadata": {},
   "outputs": [
    {
     "data": {
      "text/html": [
       "<div>\n",
       "<style scoped>\n",
       "    .dataframe tbody tr th:only-of-type {\n",
       "        vertical-align: middle;\n",
       "    }\n",
       "\n",
       "    .dataframe tbody tr th {\n",
       "        vertical-align: top;\n",
       "    }\n",
       "\n",
       "    .dataframe thead tr th {\n",
       "        text-align: left;\n",
       "    }\n",
       "\n",
       "    .dataframe thead tr:last-of-type th {\n",
       "        text-align: right;\n",
       "    }\n",
       "</style>\n",
       "<table border=\"1\" class=\"dataframe\">\n",
       "  <thead>\n",
       "    <tr>\n",
       "      <th></th>\n",
       "      <th colspan=\"4\" halign=\"left\">BenefitName</th>\n",
       "    </tr>\n",
       "    <tr>\n",
       "      <th></th>\n",
       "      <th>count</th>\n",
       "      <th>unique</th>\n",
       "      <th>top</th>\n",
       "      <th>freq</th>\n",
       "    </tr>\n",
       "    <tr>\n",
       "      <th>BusinessYear</th>\n",
       "      <th></th>\n",
       "      <th></th>\n",
       "      <th></th>\n",
       "      <th></th>\n",
       "    </tr>\n",
       "  </thead>\n",
       "  <tbody>\n",
       "    <tr>\n",
       "      <th>2014</th>\n",
       "      <td>1164869</td>\n",
       "      <td>496</td>\n",
       "      <td>Routine Dental Services (Adult)</td>\n",
       "      <td>18719</td>\n",
       "    </tr>\n",
       "    <tr>\n",
       "      <th>2015</th>\n",
       "      <td>2079286</td>\n",
       "      <td>517</td>\n",
       "      <td>Orthodontia - Adult</td>\n",
       "      <td>31269</td>\n",
       "    </tr>\n",
       "    <tr>\n",
       "      <th>2016</th>\n",
       "      <td>1804253</td>\n",
       "      <td>429</td>\n",
       "      <td>Orthodontia - Adult</td>\n",
       "      <td>27389</td>\n",
       "    </tr>\n",
       "  </tbody>\n",
       "</table>\n",
       "</div>"
      ],
      "text/plain": [
       "             BenefitName                                               \n",
       "                   count unique                              top   freq\n",
       "BusinessYear                                                           \n",
       "2014             1164869    496  Routine Dental Services (Adult)  18719\n",
       "2015             2079286    517              Orthodontia - Adult  31269\n",
       "2016             1804253    429              Orthodontia - Adult  27389"
      ]
     },
     "execution_count": 14,
     "metadata": {},
     "output_type": "execute_result"
    }
   ],
   "source": [
    "# vamos analisar qual tipo de beneficio está no topo da tablea em um determinado ano comercial\n",
    "\n",
    "CostShare_df[[\"BusinessYear\",\"BenefitName\"]].groupby('BusinessYear').describe()"
   ]
  },
  {
   "cell_type": "code",
   "execution_count": 15,
   "id": "b4880e6a",
   "metadata": {},
   "outputs": [],
   "source": [
    "# vamos analisar a utilização entre estados americanos - filtramos os dados e plotamos em seguida\n",
    "\n",
    "CostShare_df[[\"StateCode\",\"BenefitName\"]].groupby('StateCode').count().sort_values(\"BenefitName\")\n",
    "Unique_State = CostShare_df.StateCode.unique()\n",
    "benefitarray = []\n",
    "\n",
    "for state in Unique_State:\n",
    "    state_benefit =  len(CostShare_df[CostShare_df[\"StateCode\"] == state])    \n",
    "    benefitarray.append(state_benefit)\n",
    "\n"
   ]
  },
  {
   "cell_type": "code",
   "execution_count": 16,
   "id": "92f4888b",
   "metadata": {},
   "outputs": [
    {
     "name": "stderr",
     "output_type": "stream",
     "text": [
      "C:\\Users\\BRPC015042\\AppData\\Local\\Temp\\ipykernel_9808\\3407022238.py:4: UserWarning:\n",
      "\n",
      "FixedFormatter should only be used together with FixedLocator\n",
      "\n"
     ]
    },
    {
     "data": {
      "image/png": "[encoded data removed]",
      "text/plain": [
       "<Figure size 1500x1500 with 1 Axes>"
      ]
     },
     "metadata": {},
     "output_type": "display_data"
    }
   ],
   "source": [
    "# plotando\n",
    "\n",
    "f, ax = plt.subplots(figsize=(15, 15)) \n",
    "ax.set_yticklabels(Unique_State, rotation='horizontal', fontsize='large')\n",
    "g = sns.barplot(y = Unique_State,x=benefitarray)\n",
    "plt.show()"
   ]
  },
  {
   "cell_type": "code",
   "execution_count": 17,
   "id": "42e6637c",
   "metadata": {},
   "outputs": [
    {
     "name": "stderr",
     "output_type": "stream",
     "text": [
      "C:\\Users\\BRPC015042\\AppData\\Local\\Temp\\ipykernel_9808\\123126022.py:11: UserWarning:\n",
      "\n",
      "FixedFormatter should only be used together with FixedLocator\n",
      "\n"
     ]
    },
    {
     "data": {
      "image/png": "[encoded data removed]",
      "text/plain": [
       "<Figure size 1500x1500 with 1 Axes>"
      ]
     },
     "metadata": {},
     "output_type": "display_data"
    }
   ],
   "source": [
    "# vamos indexar por plano vendido por estado\n",
    "\n",
    "df = pd.DataFrame(\n",
    "    {'state': Unique_State,\n",
    "     'Count' : benefitarray\n",
    "     })\n",
    "\n",
    "df = df.sort_values(\"Count\", ascending=False).reset_index(drop=True)\n",
    "\n",
    "f, ax = plt.subplots(figsize=(15, 15)) \n",
    "ax.set_yticklabels(df.state, rotation='horizontal', fontsize='large')\n",
    "g = sns.barplot(y = df.state, x= df.Count)\n",
    "plt.show()"
   ]
  },
  {
   "cell_type": "code",
   "execution_count": 26,
   "id": "60344779",
   "metadata": {},
   "outputs": [
    {
     "data": {
      "application/vnd.plotly.v1+json": {
       "config": {
        "linkText": "Export to plot.ly",
        "plotlyServerURL": "https://plot.ly",
        "showLink": false
       },
       "data": [
        {
         "colorbar": {
          "title": {
           "text": "No of Benefit plans"
          }
         },
         "colorscale": [
          [
           0,
           "green"
          ],
          [
           0.25,
           "yellow"
          ],
          [
           0.5,
           "blue"
          ],
          [
           0.75,
           "red"
          ],
          [
           1,
           "red"
          ]
         ],
         "hoverinfo": "text",
         "locationmode": "USA-states",
         "locations": [
          "WI",
          "TX",
          "FL",
          "OH",
          "IL",
          "PA",
          "AZ",
          "GA",
          "MI",
          "IN",
          "VA",
          "TN",
          "OK",
          "SC",
          "IA",
          "UT",
          "MO",
          "NC",
          "OR",
          "LA",
          "NJ",
          "AR",
          "NE",
          "KS",
          "NV",
          "ME",
          "MT",
          "NM",
          "WY",
          "ND",
          "SD",
          "MS",
          "NH",
          "AK",
          "WV",
          "DE",
          "AL",
          "ID",
          "HI"
         ],
         "marker": {
          "line": {
           "color": "rgb(255,255,255)",
           "width": 2
          }
         },
         "text": [
          "WI<br>512587",
          "TX<br>465164",
          "FL<br>364742",
          "OH<br>331045",
          "IL<br>320533",
          "PA<br>260866",
          "AZ<br>221612",
          "GA<br>196579",
          "MI<br>189225",
          "IN<br>148531",
          "VA<br>142236",
          "TN<br>138154",
          "OK<br>133639",
          "SC<br>111907",
          "IA<br>110221",
          "UT<br>98421",
          "MO<br>95152",
          "NC<br>94290",
          "OR<br>93502",
          "LA<br>91816",
          "NJ<br>86107",
          "AR<br>68064",
          "NE<br>66935",
          "KS<br>64279",
          "NV<br>62743",
          "ME<br>61834",
          "MT<br>58132",
          "NM<br>56669",
          "WY<br>48425",
          "ND<br>48269",
          "SD<br>47730",
          "MS<br>46895",
          "NH<br>44305",
          "AK<br>41320",
          "WV<br>32638",
          "DE<br>31370",
          "AL<br>28417",
          "ID<br>27313",
          "HI<br>6741"
         ],
         "type": "choropleth",
         "z": [
          512587,
          465164,
          364742,
          331045,
          320533,
          260866,
          221612,
          196579,
          189225,
          148531,
          142236,
          138154,
          133639,
          111907,
          110221,
          98421,
          95152,
          94290,
          93502,
          91816,
          86107,
          68064,
          66935,
          64279,
          62743,
          61834,
          58132,
          56669,
          48425,
          48269,
          47730,
          46895,
          44305,
          41320,
          32638,
          31370,
          28417,
          27313,
          6741
         ]
        }
       ],
       "layout": {
        "geo": {
         "lakecolor": "rgb(85,173,240)",
         "scope": "usa",
         "showlakes": true
        },
        "template": {
         "data": {
          "bar": [
           {
            "error_x": {
             "color": "#2a3f5f"
            },
            "error_y": {
             "color": "#2a3f5f"
            },
            "marker": {
             "line": {
              "color": "#E5ECF6",
              "width": 0.5
             },
             "pattern": {
              "fillmode": "overlay",
              "size": 10,
              "solidity": 0.2
             }
            },
            "type": "bar"
           }
          ],
          "barpolar": [
           {
            "marker": {
             "line": {
              "color": "#E5ECF6",
              "width": 0.5
             },
             "pattern": {
              "fillmode": "overlay",
              "size": 10,
              "solidity": 0.2
             }
            },
            "type": "barpolar"
           }
          ],
          "carpet": [
           {
            "aaxis": {
             "endlinecolor": "#2a3f5f",
             "gridcolor": "white",
             "linecolor": "white",
             "minorgridcolor": "white",
             "startlinecolor": "#2a3f5f"
            },
            "baxis": {
             "endlinecolor": "#2a3f5f",
             "gridcolor": "white",
             "linecolor": "white",
             "minorgridcolor": "white",
             "startlinecolor": "#2a3f5f"
            },
            "type": "carpet"
           }
          ],
          "choropleth": [
           {
            "colorbar": {
             "outlinewidth": 0,
             "ticks": ""
            },
            "type": "choropleth"
           }
          ],
          "contour": [
           {
            "colorbar": {
             "outlinewidth": 0,
             "ticks": ""
            },
            "colorscale": [
             [
              0,
              "#0d0887"
             ],
             [
              0.1111111111111111,
              "#46039f"
             ],
             [
              0.2222222222222222,
              "#7201a8"
             ],
             [
              0.3333333333333333,
              "#9c179e"
             ],
             [
              0.4444444444444444,
              "#bd3786"
             ],
             [
              0.5555555555555556,
              "#d8576b"
             ],
             [
              0.6666666666666666,
              "#ed7953"
             ],
             [
              0.7777777777777778,
              "#fb9f3a"
             ],
             [
              0.8888888888888888,
              "#fdca26"
             ],
             [
              1,
              "#f0f921"
             ]
            ],
            "type": "contour"
           }
          ],
          "contourcarpet": [
           {
            "colorbar": {
             "outlinewidth": 0,
             "ticks": ""
            },
            "type": "contourcarpet"
           }
          ],
          "heatmap": [
           {
            "colorbar": {
             "outlinewidth": 0,
             "ticks": ""
            },
            "colorscale": [
             [
              0,
              "#0d0887"
             ],
             [
              0.1111111111111111,
              "#46039f"
             ],
             [
              0.2222222222222222,
              "#7201a8"
             ],
             [
              0.3333333333333333,
              "#9c179e"
             ],
             [
              0.4444444444444444,
              "#bd3786"
             ],
             [
              0.5555555555555556,
              "#d8576b"
             ],
             [
              0.6666666666666666,
              "#ed7953"
             ],
             [
              0.7777777777777778,
              "#fb9f3a"
             ],
             [
              0.8888888888888888,
              "#fdca26"
             ],
             [
              1,
              "#f0f921"
             ]
            ],
            "type": "heatmap"
           }
          ],
          "heatmapgl": [
           {
            "colorbar": {
             "outlinewidth": 0,
             "ticks": ""
            },
            "colorscale": [
             [
              0,
              "#0d0887"
             ],
             [
              0.1111111111111111,
              "#46039f"
             ],
             [
              0.2222222222222222,
              "#7201a8"
             ],
             [
              0.3333333333333333,
              "#9c179e"
             ],
             [
              0.4444444444444444,
              "#bd3786"
             ],
             [
              0.5555555555555556,
              "#d8576b"
             ],
             [
              0.6666666666666666,
              "#ed7953"
             ],
             [
              0.7777777777777778,
              "#fb9f3a"
             ],
             [
              0.8888888888888888,
              "#fdca26"
             ],
             [
              1,
              "#f0f921"
             ]
            ],
            "type": "heatmapgl"
           }
          ],
          "histogram": [
           {
            "marker": {
             "pattern": {
              "fillmode": "overlay",
              "size": 10,
              "solidity": 0.2
             }
            },
            "type": "histogram"
           }
          ],
          "histogram2d": [
           {
            "colorbar": {
             "outlinewidth": 0,
             "ticks": ""
            },
            "colorscale": [
             [
              0,
              "#0d0887"
             ],
             [
              0.1111111111111111,
              "#46039f"
             ],
             [
              0.2222222222222222,
              "#7201a8"
             ],
             [
              0.3333333333333333,
              "#9c179e"
             ],
             [
              0.4444444444444444,
              "#bd3786"
             ],
             [
              0.5555555555555556,
              "#d8576b"
             ],
             [
              0.6666666666666666,
              "#ed7953"
             ],
             [
              0.7777777777777778,
              "#fb9f3a"
             ],
             [
              0.8888888888888888,
              "#fdca26"
             ],
             [
              1,
              "#f0f921"
             ]
            ],
            "type": "histogram2d"
           }
          ],
          "histogram2dcontour": [
           {
            "colorbar": {
             "outlinewidth": 0,
             "ticks": ""
            },
            "colorscale": [
             [
              0,
              "#0d0887"
             ],
             [
              0.1111111111111111,
              "#46039f"
             ],
             [
              0.2222222222222222,
              "#7201a8"
             ],
             [
              0.3333333333333333,
              "#9c179e"
             ],
             [
              0.4444444444444444,
              "#bd3786"
             ],
             [
              0.5555555555555556,
              "#d8576b"
             ],
             [
              0.6666666666666666,
              "#ed7953"
             ],
             [
              0.7777777777777778,
              "#fb9f3a"
             ],
             [
              0.8888888888888888,
              "#fdca26"
             ],
             [
              1,
              "#f0f921"
             ]
            ],
            "type": "histogram2dcontour"
           }
          ],
          "mesh3d": [
           {
            "colorbar": {
             "outlinewidth": 0,
             "ticks": ""
            },
            "type": "mesh3d"
           }
          ],
          "parcoords": [
           {
            "line": {
             "colorbar": {
              "outlinewidth": 0,
              "ticks": ""
             }
            },
            "type": "parcoords"
           }
          ],
          "pie": [
           {
            "automargin": true,
            "type": "pie"
           }
          ],
          "scatter": [
           {
            "fillpattern": {
             "fillmode": "overlay",
             "size": 10,
             "solidity": 0.2
            },
            "type": "scatter"
           }
          ],
          "scatter3d": [
           {
            "line": {
             "colorbar": {
              "outlinewidth": 0,
              "ticks": ""
             }
            },
            "marker": {
             "colorbar": {
              "outlinewidth": 0,
              "ticks": ""
             }
            },
            "type": "scatter3d"
           }
          ],
          "scattercarpet": [
           {
            "marker": {
             "colorbar": {
              "outlinewidth": 0,
              "ticks": ""
             }
            },
            "type": "scattercarpet"
           }
          ],
          "scattergeo": [
           {
            "marker": {
             "colorbar": {
              "outlinewidth": 0,
              "ticks": ""
             }
            },
            "type": "scattergeo"
           }
          ],
          "scattergl": [
           {
            "marker": {
             "colorbar": {
              "outlinewidth": 0,
              "ticks": ""
             }
            },
            "type": "scattergl"
           }
          ],
          "scattermapbox": [
           {
            "marker": {
             "colorbar": {
              "outlinewidth": 0,
              "ticks": ""
             }
            },
            "type": "scattermapbox"
           }
          ],
          "scatterpolar": [
           {
            "marker": {
             "colorbar": {
              "outlinewidth": 0,
              "ticks": ""
             }
            },
            "type": "scatterpolar"
           }
          ],
          "scatterpolargl": [
           {
            "marker": {
             "colorbar": {
              "outlinewidth": 0,
              "ticks": ""
             }
            },
            "type": "scatterpolargl"
           }
          ],
          "scatterternary": [
           {
            "marker": {
             "colorbar": {
              "outlinewidth": 0,
              "ticks": ""
             }
            },
            "type": "scatterternary"
           }
          ],
          "surface": [
           {
            "colorbar": {
             "outlinewidth": 0,
             "ticks": ""
            },
            "colorscale": [
             [
              0,
              "#0d0887"
             ],
             [
              0.1111111111111111,
              "#46039f"
             ],
             [
              0.2222222222222222,
              "#7201a8"
             ],
             [
              0.3333333333333333,
              "#9c179e"
             ],
             [
              0.4444444444444444,
              "#bd3786"
             ],
             [
              0.5555555555555556,
              "#d8576b"
             ],
             [
              0.6666666666666666,
              "#ed7953"
             ],
             [
              0.7777777777777778,
              "#fb9f3a"
             ],
             [
              0.8888888888888888,
              "#fdca26"
             ],
             [
              1,
              "#f0f921"
             ]
            ],
            "type": "surface"
           }
          ],
          "table": [
           {
            "cells": {
             "fill": {
              "color": "#EBF0F8"
             },
             "line": {
              "color": "white"
             }
            },
            "header": {
             "fill": {
              "color": "#C8D4E3"
             },
             "line": {
              "color": "white"
             }
            },
            "type": "table"
           }
          ]
         },
         "layout": {
          "annotationdefaults": {
           "arrowcolor": "#2a3f5f",
           "arrowhead": 0,
           "arrowwidth": 1
          },
          "autotypenumbers": "strict",
          "coloraxis": {
           "colorbar": {
            "outlinewidth": 0,
            "ticks": ""
           }
          },
          "colorscale": {
           "diverging": [
            [
             0,
             "#8e0152"
            ],
            [
             0.1,
             "#c51b7d"
            ],
            [
             0.2,
             "#de77ae"
            ],
            [
             0.3,
             "#f1b6da"
            ],
            [
             0.4,
             "#fde0ef"
            ],
            [
             0.5,
             "#f7f7f7"
            ],
            [
             0.6,
             "#e6f5d0"
            ],
            [
             0.7,
             "#b8e186"
            ],
            [
             0.8,
             "#7fbc41"
            ],
            [
             0.9,
             "#4d9221"
            ],
            [
             1,
             "#276419"
            ]
           ],
           "sequential": [
            [
             0,
             "#0d0887"
            ],
            [
             0.1111111111111111,
             "#46039f"
            ],
            [
             0.2222222222222222,
             "#7201a8"
            ],
            [
             0.3333333333333333,
             "#9c179e"
            ],
            [
             0.4444444444444444,
             "#bd3786"
            ],
            [
             0.5555555555555556,
             "#d8576b"
            ],
            [
             0.6666666666666666,
             "#ed7953"
            ],
            [
             0.7777777777777778,
             "#fb9f3a"
            ],
            [
             0.8888888888888888,
             "#fdca26"
            ],
            [
             1,
             "#f0f921"
            ]
           ],
           "sequentialminus": [
            [
             0,
             "#0d0887"
            ],
            [
             0.1111111111111111,
             "#46039f"
            ],
            [
             0.2222222222222222,
             "#7201a8"
            ],
            [
             0.3333333333333333,
             "#9c179e"
            ],
            [
             0.4444444444444444,
             "#bd3786"
            ],
            [
             0.5555555555555556,
             "#d8576b"
            ],
            [
             0.6666666666666666,
             "#ed7953"
            ],
            [
             0.7777777777777778,
             "#fb9f3a"
            ],
            [
             0.8888888888888888,
             "#fdca26"
            ],
            [
             1,
             "#f0f921"
            ]
           ]
          },
          "colorway": [
           "#636efa",
           "#EF553B",
           "#00cc96",
           "#ab63fa",
           "#FFA15A",
           "#19d3f3",
           "#FF6692",
           "#B6E880",
           "#FF97FF",
           "#FECB52"
          ],
          "font": {
           "color": "#2a3f5f"
          },
          "geo": {
           "bgcolor": "white",
           "lakecolor": "white",
           "landcolor": "#E5ECF6",
           "showlakes": true,
           "showland": true,
           "subunitcolor": "white"
          },
          "hoverlabel": {
           "align": "left"
          },
          "hovermode": "closest",
          "mapbox": {
           "style": "light"
          },
          "paper_bgcolor": "white",
          "plot_bgcolor": "#E5ECF6",
          "polar": {
           "angularaxis": {
            "gridcolor": "white",
            "linecolor": "white",
            "ticks": ""
           },
           "bgcolor": "#E5ECF6",
           "radialaxis": {
            "gridcolor": "white",
            "linecolor": "white",
            "ticks": ""
           }
          },
          "scene": {
           "xaxis": {
            "backgroundcolor": "#E5ECF6",
            "gridcolor": "white",
            "gridwidth": 2,
            "linecolor": "white",
            "showbackground": true,
            "ticks": "",
            "zerolinecolor": "white"
           },
           "yaxis": {
            "backgroundcolor": "#E5ECF6",
            "gridcolor": "white",
            "gridwidth": 2,
            "linecolor": "white",
            "showbackground": true,
            "ticks": "",
            "zerolinecolor": "white"
           },
           "zaxis": {
            "backgroundcolor": "#E5ECF6",
            "gridcolor": "white",
            "gridwidth": 2,
            "linecolor": "white",
            "showbackground": true,
            "ticks": "",
            "zerolinecolor": "white"
           }
          },
          "shapedefaults": {
           "line": {
            "color": "#2a3f5f"
           }
          },
          "ternary": {
           "aaxis": {
            "gridcolor": "white",
            "linecolor": "white",
            "ticks": ""
           },
           "baxis": {
            "gridcolor": "white",
            "linecolor": "white",
            "ticks": ""
           },
           "bgcolor": "#E5ECF6",
           "caxis": {
            "gridcolor": "white",
            "linecolor": "white",
            "ticks": ""
           }
          },
          "title": {
           "x": 0.05
          },
          "xaxis": {
           "automargin": true,
           "gridcolor": "white",
           "linecolor": "white",
           "ticks": "",
           "title": {
            "standoff": 15
           },
           "zerolinecolor": "white",
           "zerolinewidth": 2
          },
          "yaxis": {
           "automargin": true,
           "gridcolor": "white",
           "linecolor": "white",
           "ticks": "",
           "title": {
            "standoff": 15
           },
           "zerolinecolor": "white",
           "zerolinewidth": 2
          }
         }
        },
        "title": {
         "text": "Benefit plan spread across state"
        }
       }
      },
      "text/html": [
       "<div>                            <div id=\"377460ef-9e44-4b4b-b1d3-9bf59b382207\" class=\"plotly-graph-div\" style=\"height:525px; width:100%;\"></div>            <script type=\"text/javascript\">                require([\"plotly\"], function(Plotly) {                    window.PLOTLYENV=window.PLOTLYENV || {};                                    if (document.getElementById(\"377460ef-9e44-4b4b-b1d3-9bf59b382207\")) {                    Plotly.newPlot(                        \"377460ef-9e44-4b4b-b1d3-9bf59b382207\",                        [{\"colorbar\":{\"title\":{\"text\":\"No of Benefit plans\"}},\"colorscale\":[[0,\"green\"],[0.25,\"yellow\"],[0.5,\"blue\"],[0.75,\"red\"],[1,\"red\"]],\"hoverinfo\":\"text\",\"locationmode\":\"USA-states\",\"locations\":[\"WI\",\"TX\",\"FL\",\"OH\",\"IL\",\"PA\",\"AZ\",\"GA\",\"MI\",\"IN\",\"VA\",\"TN\",\"OK\",\"SC\",\"IA\",\"UT\",\"MO\",\"NC\",\"OR\",\"LA\",\"NJ\",\"AR\",\"NE\",\"KS\",\"NV\",\"ME\",\"MT\",\"NM\",\"WY\",\"ND\",\"SD\",\"MS\",\"NH\",\"AK\",\"WV\",\"DE\",\"AL\",\"ID\",\"HI\"],\"marker\":{\"line\":{\"color\":\"rgb(255,255,255)\",\"width\":2}},\"text\":[\"WI<br>512587\",\"TX<br>465164\",\"FL<br>364742\",\"OH<br>331045\",\"IL<br>320533\",\"PA<br>260866\",\"AZ<br>221612\",\"GA<br>196579\",\"MI<br>189225\",\"IN<br>148531\",\"VA<br>142236\",\"TN<br>138154\",\"OK<br>133639\",\"SC<br>111907\",\"IA<br>110221\",\"UT<br>98421\",\"MO<br>95152\",\"NC<br>94290\",\"OR<br>93502\",\"LA<br>91816\",\"NJ<br>86107\",\"AR<br>68064\",\"NE<br>66935\",\"KS<br>64279\",\"NV<br>62743\",\"ME<br>61834\",\"MT<br>58132\",\"NM<br>56669\",\"WY<br>48425\",\"ND<br>48269\",\"SD<br>47730\",\"MS<br>46895\",\"NH<br>44305\",\"AK<br>41320\",\"WV<br>32638\",\"DE<br>31370\",\"AL<br>28417\",\"ID<br>27313\",\"HI<br>6741\"],\"z\":[512587,465164,364742,331045,320533,260866,221612,196579,189225,148531,142236,138154,133639,111907,110221,98421,95152,94290,93502,91816,86107,68064,66935,64279,62743,61834,58132,56669,48425,48269,47730,46895,44305,41320,32638,31370,28417,27313,6741],\"type\":\"choropleth\"}],                        {\"geo\":{\"lakecolor\":\"rgb(85,173,240)\",\"scope\":\"usa\",\"showlakes\":true},\"template\":{\"data\":{\"barpolar\":[{\"marker\":{\"line\":{\"color\":\"#E5ECF6\",\"width\":0.5},\"pattern\":{\"fillmode\":\"overlay\",\"size\":10,\"solidity\":0.2}},\"type\":\"barpolar\"}],\"bar\":[{\"error_x\":{\"color\":\"#2a3f5f\"},\"error_y\":{\"color\":\"#2a3f5f\"},\"marker\":{\"line\":{\"color\":\"#E5ECF6\",\"width\":0.5},\"pattern\":{\"fillmode\":\"overlay\",\"size\":10,\"solidity\":0.2}},\"type\":\"bar\"}],\"carpet\":[{\"aaxis\":{\"endlinecolor\":\"#2a3f5f\",\"gridcolor\":\"white\",\"linecolor\":\"white\",\"minorgridcolor\":\"white\",\"startlinecolor\":\"#2a3f5f\"},\"baxis\":{\"endlinecolor\":\"#2a3f5f\",\"gridcolor\":\"white\",\"linecolor\":\"white\",\"minorgridcolor\":\"white\",\"startlinecolor\":\"#2a3f5f\"},\"type\":\"carpet\"}],\"choropleth\":[{\"colorbar\":{\"outlinewidth\":0,\"ticks\":\"\"},\"type\":\"choropleth\"}],\"contourcarpet\":[{\"colorbar\":{\"outlinewidth\":0,\"ticks\":\"\"},\"type\":\"contourcarpet\"}],\"contour\":[{\"colorbar\":{\"outlinewidth\":0,\"ticks\":\"\"},\"colorscale\":[[0.0,\"#0d0887\"],[0.1111111111111111,\"#46039f\"],[0.2222222222222222,\"#7201a8\"],[0.3333333333333333,\"#9c179e\"],[0.4444444444444444,\"#bd3786\"],[0.5555555555555556,\"#d8576b\"],[0.6666666666666666,\"#ed7953\"],[0.7777777777777778,\"#fb9f3a\"],[0.8888888888888888,\"#fdca26\"],[1.0,\"#f0f921\"]],\"type\":\"contour\"}],\"heatmapgl\":[{\"colorbar\":{\"outlinewidth\":0,\"ticks\":\"\"},\"colorscale\":[[0.0,\"#0d0887\"],[0.1111111111111111,\"#46039f\"],[0.2222222222222222,\"#7201a8\"],[0.3333333333333333,\"#9c179e\"],[0.4444444444444444,\"#bd3786\"],[0.5555555555555556,\"#d8576b\"],[0.6666666666666666,\"#ed7953\"],[0.7777777777777778,\"#fb9f3a\"],[0.8888888888888888,\"#fdca26\"],[1.0,\"#f0f921\"]],\"type\":\"heatmapgl\"}],\"heatmap\":[{\"colorbar\":{\"outlinewidth\":0,\"ticks\":\"\"},\"colorscale\":[[0.0,\"#0d0887\"],[0.1111111111111111,\"#46039f\"],[0.2222222222222222,\"#7201a8\"],[0.3333333333333333,\"#9c179e\"],[0.4444444444444444,\"#bd3786\"],[0.5555555555555556,\"#d8576b\"],[0.6666666666666666,\"#ed7953\"],[0.7777777777777778,\"#fb9f3a\"],[0.8888888888888888,\"#fdca26\"],[1.0,\"#f0f921\"]],\"type\":\"heatmap\"}],\"histogram2dcontour\":[{\"colorbar\":{\"outlinewidth\":0,\"ticks\":\"\"},\"colorscale\":[[0.0,\"#0d0887\"],[0.1111111111111111,\"#46039f\"],[0.2222222222222222,\"#7201a8\"],[0.3333333333333333,\"#9c179e\"],[0.4444444444444444,\"#bd3786\"],[0.5555555555555556,\"#d8576b\"],[0.6666666666666666,\"#ed7953\"],[0.7777777777777778,\"#fb9f3a\"],[0.8888888888888888,\"#fdca26\"],[1.0,\"#f0f921\"]],\"type\":\"histogram2dcontour\"}],\"histogram2d\":[{\"colorbar\":{\"outlinewidth\":0,\"ticks\":\"\"},\"colorscale\":[[0.0,\"#0d0887\"],[0.1111111111111111,\"#46039f\"],[0.2222222222222222,\"#7201a8\"],[0.3333333333333333,\"#9c179e\"],[0.4444444444444444,\"#bd3786\"],[0.5555555555555556,\"#d8576b\"],[0.6666666666666666,\"#ed7953\"],[0.7777777777777778,\"#fb9f3a\"],[0.8888888888888888,\"#fdca26\"],[1.0,\"#f0f921\"]],\"type\":\"histogram2d\"}],\"histogram\":[{\"marker\":{\"pattern\":{\"fillmode\":\"overlay\",\"size\":10,\"solidity\":0.2}},\"type\":\"histogram\"}],\"mesh3d\":[{\"colorbar\":{\"outlinewidth\":0,\"ticks\":\"\"},\"type\":\"mesh3d\"}],\"parcoords\":[{\"line\":{\"colorbar\":{\"outlinewidth\":0,\"ticks\":\"\"}},\"type\":\"parcoords\"}],\"pie\":[{\"automargin\":true,\"type\":\"pie\"}],\"scatter3d\":[{\"line\":{\"colorbar\":{\"outlinewidth\":0,\"ticks\":\"\"}},\"marker\":{\"colorbar\":{\"outlinewidth\":0,\"ticks\":\"\"}},\"type\":\"scatter3d\"}],\"scattercarpet\":[{\"marker\":{\"colorbar\":{\"outlinewidth\":0,\"ticks\":\"\"}},\"type\":\"scattercarpet\"}],\"scattergeo\":[{\"marker\":{\"colorbar\":{\"outlinewidth\":0,\"ticks\":\"\"}},\"type\":\"scattergeo\"}],\"scattergl\":[{\"marker\":{\"colorbar\":{\"outlinewidth\":0,\"ticks\":\"\"}},\"type\":\"scattergl\"}],\"scattermapbox\":[{\"marker\":{\"colorbar\":{\"outlinewidth\":0,\"ticks\":\"\"}},\"type\":\"scattermapbox\"}],\"scatterpolargl\":[{\"marker\":{\"colorbar\":{\"outlinewidth\":0,\"ticks\":\"\"}},\"type\":\"scatterpolargl\"}],\"scatterpolar\":[{\"marker\":{\"colorbar\":{\"outlinewidth\":0,\"ticks\":\"\"}},\"type\":\"scatterpolar\"}],\"scatter\":[{\"fillpattern\":{\"fillmode\":\"overlay\",\"size\":10,\"solidity\":0.2},\"type\":\"scatter\"}],\"scatterternary\":[{\"marker\":{\"colorbar\":{\"outlinewidth\":0,\"ticks\":\"\"}},\"type\":\"scatterternary\"}],\"surface\":[{\"colorbar\":{\"outlinewidth\":0,\"ticks\":\"\"},\"colorscale\":[[0.0,\"#0d0887\"],[0.1111111111111111,\"#46039f\"],[0.2222222222222222,\"#7201a8\"],[0.3333333333333333,\"#9c179e\"],[0.4444444444444444,\"#bd3786\"],[0.5555555555555556,\"#d8576b\"],[0.6666666666666666,\"#ed7953\"],[0.7777777777777778,\"#fb9f3a\"],[0.8888888888888888,\"#fdca26\"],[1.0,\"#f0f921\"]],\"type\":\"surface\"}],\"table\":[{\"cells\":{\"fill\":{\"color\":\"#EBF0F8\"},\"line\":{\"color\":\"white\"}},\"header\":{\"fill\":{\"color\":\"#C8D4E3\"},\"line\":{\"color\":\"white\"}},\"type\":\"table\"}]},\"layout\":{\"annotationdefaults\":{\"arrowcolor\":\"#2a3f5f\",\"arrowhead\":0,\"arrowwidth\":1},\"autotypenumbers\":\"strict\",\"coloraxis\":{\"colorbar\":{\"outlinewidth\":0,\"ticks\":\"\"}},\"colorscale\":{\"diverging\":[[0,\"#8e0152\"],[0.1,\"#c51b7d\"],[0.2,\"#de77ae\"],[0.3,\"#f1b6da\"],[0.4,\"#fde0ef\"],[0.5,\"#f7f7f7\"],[0.6,\"#e6f5d0\"],[0.7,\"#b8e186\"],[0.8,\"#7fbc41\"],[0.9,\"#4d9221\"],[1,\"#276419\"]],\"sequential\":[[0.0,\"#0d0887\"],[0.1111111111111111,\"#46039f\"],[0.2222222222222222,\"#7201a8\"],[0.3333333333333333,\"#9c179e\"],[0.4444444444444444,\"#bd3786\"],[0.5555555555555556,\"#d8576b\"],[0.6666666666666666,\"#ed7953\"],[0.7777777777777778,\"#fb9f3a\"],[0.8888888888888888,\"#fdca26\"],[1.0,\"#f0f921\"]],\"sequentialminus\":[[0.0,\"#0d0887\"],[0.1111111111111111,\"#46039f\"],[0.2222222222222222,\"#7201a8\"],[0.3333333333333333,\"#9c179e\"],[0.4444444444444444,\"#bd3786\"],[0.5555555555555556,\"#d8576b\"],[0.6666666666666666,\"#ed7953\"],[0.7777777777777778,\"#fb9f3a\"],[0.8888888888888888,\"#fdca26\"],[1.0,\"#f0f921\"]]},\"colorway\":[\"#636efa\",\"#EF553B\",\"#00cc96\",\"#ab63fa\",\"#FFA15A\",\"#19d3f3\",\"#FF6692\",\"#B6E880\",\"#FF97FF\",\"#FECB52\"],\"font\":{\"color\":\"#2a3f5f\"},\"geo\":{\"bgcolor\":\"white\",\"lakecolor\":\"white\",\"landcolor\":\"#E5ECF6\",\"showlakes\":true,\"showland\":true,\"subunitcolor\":\"white\"},\"hoverlabel\":{\"align\":\"left\"},\"hovermode\":\"closest\",\"mapbox\":{\"style\":\"light\"},\"paper_bgcolor\":\"white\",\"plot_bgcolor\":\"#E5ECF6\",\"polar\":{\"angularaxis\":{\"gridcolor\":\"white\",\"linecolor\":\"white\",\"ticks\":\"\"},\"bgcolor\":\"#E5ECF6\",\"radialaxis\":{\"gridcolor\":\"white\",\"linecolor\":\"white\",\"ticks\":\"\"}},\"scene\":{\"xaxis\":{\"backgroundcolor\":\"#E5ECF6\",\"gridcolor\":\"white\",\"gridwidth\":2,\"linecolor\":\"white\",\"showbackground\":true,\"ticks\":\"\",\"zerolinecolor\":\"white\"},\"yaxis\":{\"backgroundcolor\":\"#E5ECF6\",\"gridcolor\":\"white\",\"gridwidth\":2,\"linecolor\":\"white\",\"showbackground\":true,\"ticks\":\"\",\"zerolinecolor\":\"white\"},\"zaxis\":{\"backgroundcolor\":\"#E5ECF6\",\"gridcolor\":\"white\",\"gridwidth\":2,\"linecolor\":\"white\",\"showbackground\":true,\"ticks\":\"\",\"zerolinecolor\":\"white\"}},\"shapedefaults\":{\"line\":{\"color\":\"#2a3f5f\"}},\"ternary\":{\"aaxis\":{\"gridcolor\":\"white\",\"linecolor\":\"white\",\"ticks\":\"\"},\"baxis\":{\"gridcolor\":\"white\",\"linecolor\":\"white\",\"ticks\":\"\"},\"bgcolor\":\"#E5ECF6\",\"caxis\":{\"gridcolor\":\"white\",\"linecolor\":\"white\",\"ticks\":\"\"}},\"title\":{\"x\":0.05},\"xaxis\":{\"automargin\":true,\"gridcolor\":\"white\",\"linecolor\":\"white\",\"ticks\":\"\",\"title\":{\"standoff\":15},\"zerolinecolor\":\"white\",\"zerolinewidth\":2},\"yaxis\":{\"automargin\":true,\"gridcolor\":\"white\",\"linecolor\":\"white\",\"ticks\":\"\",\"title\":{\"standoff\":15},\"zerolinecolor\":\"white\",\"zerolinewidth\":2}}},\"title\":{\"text\":\"Benefit plan spread across state\"}},                        {\"responsive\": true}                    ).then(function(){\n",
       "                            \n",
       "var gd = document.getElementById('377460ef-9e44-4b4b-b1d3-9bf59b382207');\n",
       "var x = new MutationObserver(function (mutations, observer) {{\n",
       "        var display = window.getComputedStyle(gd).display;\n",
       "        if (!display || display === 'none') {{\n",
       "            console.log([gd, 'removed!']);\n",
       "            Plotly.purge(gd);\n",
       "            observer.disconnect();\n",
       "        }}\n",
       "}});\n",
       "\n",
       "// Listen for the removal of the full notebook cells\n",
       "var notebookContainer = gd.closest('#notebook-container');\n",
       "if (notebookContainer) {{\n",
       "    x.observe(notebookContainer, {childList: true});\n",
       "}}\n",
       "\n",
       "// Listen for the clearing of the current output cell\n",
       "var outputEl = gd.closest('.output');\n",
       "if (outputEl) {{\n",
       "    x.observe(outputEl, {childList: true});\n",
       "}}\n",
       "\n",
       "                        })                };                });            </script>        </div>"
      ]
     },
     "metadata": {},
     "output_type": "display_data"
    }
   ],
   "source": [
    "# vamos plotar no mapa americano para melhorar o entendimento\n",
    "\n",
    "data = dict(type='choropleth',\n",
    "            locations=df['state'],\n",
    "            locationmode='USA-states',\n",
    "            colorscale=[\n",
    "                [0, 'green'],\n",
    "                [0.25, 'yellow'],\n",
    "                [0.5, 'blue'],\n",
    "                [0.75, 'red'],\n",
    "                [1, 'red']\n",
    "            ],\n",
    "            #text=df['state'],\n",
    "            text=df['state'] + '<br>' + df['Count'].astype(str),  # Combina sigla do estado e valor\n",
    "            hoverinfo='text',  # Adicionando esta linha para mostrar a sigla do estado\n",
    "            marker=dict(line=dict(color='rgb(255,255,255)', width=2)),\n",
    "            z=df['Count'],\n",
    "            colorbar={'title': 'No of Benefit plans'})\n",
    "\n",
    "layout = dict(title='Benefit plan spread across state',\n",
    "              geo=dict(scope='usa', showlakes=True, lakecolor='rgb(85,173,240)'))\n",
    "\n",
    "choromap2 = go.Figure(data=[data], layout=layout)\n",
    "iplot(choromap2)"
   ]
  },
  {
   "cell_type": "code",
   "execution_count": 27,
   "id": "fffaa519",
   "metadata": {},
   "outputs": [
    {
     "data": {
      "text/html": [
       "<div>\n",
       "<style scoped>\n",
       "    .dataframe tbody tr th:only-of-type {\n",
       "        vertical-align: middle;\n",
       "    }\n",
       "\n",
       "    .dataframe tbody tr th {\n",
       "        vertical-align: top;\n",
       "    }\n",
       "\n",
       "    .dataframe thead tr th {\n",
       "        text-align: left;\n",
       "    }\n",
       "\n",
       "    .dataframe thead tr:last-of-type th {\n",
       "        text-align: right;\n",
       "    }\n",
       "</style>\n",
       "<table border=\"1\" class=\"dataframe\">\n",
       "  <thead>\n",
       "    <tr>\n",
       "      <th></th>\n",
       "      <th colspan=\"4\" halign=\"left\">BenefitName</th>\n",
       "    </tr>\n",
       "    <tr>\n",
       "      <th></th>\n",
       "      <th>count</th>\n",
       "      <th>unique</th>\n",
       "      <th>top</th>\n",
       "      <th>freq</th>\n",
       "    </tr>\n",
       "    <tr>\n",
       "      <th>StateCode</th>\n",
       "      <th></th>\n",
       "      <th></th>\n",
       "      <th></th>\n",
       "      <th></th>\n",
       "    </tr>\n",
       "  </thead>\n",
       "  <tbody>\n",
       "    <tr>\n",
       "      <th>AK</th>\n",
       "      <td>41320</td>\n",
       "      <td>84</td>\n",
       "      <td>Routine Dental Services (Adult)</td>\n",
       "      <td>720</td>\n",
       "    </tr>\n",
       "    <tr>\n",
       "      <th>AL</th>\n",
       "      <td>28417</td>\n",
       "      <td>115</td>\n",
       "      <td>Routine Dental Services (Adult)</td>\n",
       "      <td>653</td>\n",
       "    </tr>\n",
       "    <tr>\n",
       "      <th>AR</th>\n",
       "      <td>68064</td>\n",
       "      <td>93</td>\n",
       "      <td>Orthodontia - Adult</td>\n",
       "      <td>1077</td>\n",
       "    </tr>\n",
       "    <tr>\n",
       "      <th>AZ</th>\n",
       "      <td>221612</td>\n",
       "      <td>195</td>\n",
       "      <td>Major Dental Care - Adult</td>\n",
       "      <td>3345</td>\n",
       "    </tr>\n",
       "    <tr>\n",
       "      <th>DE</th>\n",
       "      <td>31370</td>\n",
       "      <td>110</td>\n",
       "      <td>Orthodontia - Adult</td>\n",
       "      <td>602</td>\n",
       "    </tr>\n",
       "    <tr>\n",
       "      <th>FL</th>\n",
       "      <td>364742</td>\n",
       "      <td>194</td>\n",
       "      <td>Orthodontia - Child</td>\n",
       "      <td>5130</td>\n",
       "    </tr>\n",
       "    <tr>\n",
       "      <th>GA</th>\n",
       "      <td>196579</td>\n",
       "      <td>151</td>\n",
       "      <td>Routine Dental Services (Adult)</td>\n",
       "      <td>2893</td>\n",
       "    </tr>\n",
       "    <tr>\n",
       "      <th>HI</th>\n",
       "      <td>6741</td>\n",
       "      <td>76</td>\n",
       "      <td>Routine Dental Services (Adult)</td>\n",
       "      <td>110</td>\n",
       "    </tr>\n",
       "    <tr>\n",
       "      <th>IA</th>\n",
       "      <td>110221</td>\n",
       "      <td>104</td>\n",
       "      <td>Dental Check-Up for Children</td>\n",
       "      <td>1727</td>\n",
       "    </tr>\n",
       "    <tr>\n",
       "      <th>ID</th>\n",
       "      <td>27313</td>\n",
       "      <td>71</td>\n",
       "      <td>Dental Check-Up for Children</td>\n",
       "      <td>447</td>\n",
       "    </tr>\n",
       "    <tr>\n",
       "      <th>IL</th>\n",
       "      <td>320533</td>\n",
       "      <td>157</td>\n",
       "      <td>Orthodontia - Adult</td>\n",
       "      <td>4299</td>\n",
       "    </tr>\n",
       "    <tr>\n",
       "      <th>IN</th>\n",
       "      <td>148531</td>\n",
       "      <td>109</td>\n",
       "      <td>Major Dental Care - Adult</td>\n",
       "      <td>2347</td>\n",
       "    </tr>\n",
       "    <tr>\n",
       "      <th>KS</th>\n",
       "      <td>64279</td>\n",
       "      <td>82</td>\n",
       "      <td>Dental Check-Up for Children</td>\n",
       "      <td>1087</td>\n",
       "    </tr>\n",
       "    <tr>\n",
       "      <th>LA</th>\n",
       "      <td>91816</td>\n",
       "      <td>125</td>\n",
       "      <td>Routine Dental Services (Adult)</td>\n",
       "      <td>1491</td>\n",
       "    </tr>\n",
       "    <tr>\n",
       "      <th>ME</th>\n",
       "      <td>61834</td>\n",
       "      <td>99</td>\n",
       "      <td>Basic Dental Care - Child</td>\n",
       "      <td>975</td>\n",
       "    </tr>\n",
       "    <tr>\n",
       "      <th>MI</th>\n",
       "      <td>189225</td>\n",
       "      <td>205</td>\n",
       "      <td>Basic Dental Care - Child</td>\n",
       "      <td>3248</td>\n",
       "    </tr>\n",
       "    <tr>\n",
       "      <th>MO</th>\n",
       "      <td>95152</td>\n",
       "      <td>127</td>\n",
       "      <td>Orthodontia - Child</td>\n",
       "      <td>1577</td>\n",
       "    </tr>\n",
       "    <tr>\n",
       "      <th>MS</th>\n",
       "      <td>46895</td>\n",
       "      <td>104</td>\n",
       "      <td>Basic Dental Care - Adult</td>\n",
       "      <td>725</td>\n",
       "    </tr>\n",
       "    <tr>\n",
       "      <th>MT</th>\n",
       "      <td>58132</td>\n",
       "      <td>75</td>\n",
       "      <td>Basic Dental Care - Child</td>\n",
       "      <td>1049</td>\n",
       "    </tr>\n",
       "    <tr>\n",
       "      <th>NC</th>\n",
       "      <td>94290</td>\n",
       "      <td>98</td>\n",
       "      <td>Major Dental Care - Adult</td>\n",
       "      <td>1537</td>\n",
       "    </tr>\n",
       "    <tr>\n",
       "      <th>ND</th>\n",
       "      <td>48269</td>\n",
       "      <td>77</td>\n",
       "      <td>Accidental Dental</td>\n",
       "      <td>974</td>\n",
       "    </tr>\n",
       "    <tr>\n",
       "      <th>NE</th>\n",
       "      <td>66935</td>\n",
       "      <td>90</td>\n",
       "      <td>Major Dental Care - Adult</td>\n",
       "      <td>1238</td>\n",
       "    </tr>\n",
       "    <tr>\n",
       "      <th>NH</th>\n",
       "      <td>44305</td>\n",
       "      <td>98</td>\n",
       "      <td>Major Dental Care - Adult</td>\n",
       "      <td>707</td>\n",
       "    </tr>\n",
       "    <tr>\n",
       "      <th>NJ</th>\n",
       "      <td>86107</td>\n",
       "      <td>100</td>\n",
       "      <td>Orthodontia - Adult</td>\n",
       "      <td>1357</td>\n",
       "    </tr>\n",
       "    <tr>\n",
       "      <th>NM</th>\n",
       "      <td>56669</td>\n",
       "      <td>78</td>\n",
       "      <td>Orthodontia - Adult</td>\n",
       "      <td>828</td>\n",
       "    </tr>\n",
       "    <tr>\n",
       "      <th>NV</th>\n",
       "      <td>62743</td>\n",
       "      <td>121</td>\n",
       "      <td>Dental Check-Up for Children</td>\n",
       "      <td>930</td>\n",
       "    </tr>\n",
       "    <tr>\n",
       "      <th>OH</th>\n",
       "      <td>331045</td>\n",
       "      <td>193</td>\n",
       "      <td>Dental Check-Up for Children</td>\n",
       "      <td>5092</td>\n",
       "    </tr>\n",
       "    <tr>\n",
       "      <th>OK</th>\n",
       "      <td>133639</td>\n",
       "      <td>83</td>\n",
       "      <td>Major Dental Care - Adult</td>\n",
       "      <td>2136</td>\n",
       "    </tr>\n",
       "    <tr>\n",
       "      <th>OR</th>\n",
       "      <td>93502</td>\n",
       "      <td>123</td>\n",
       "      <td>Orthodontia - Adult</td>\n",
       "      <td>1344</td>\n",
       "    </tr>\n",
       "    <tr>\n",
       "      <th>PA</th>\n",
       "      <td>260866</td>\n",
       "      <td>157</td>\n",
       "      <td>Routine Dental Services (Adult)</td>\n",
       "      <td>4208</td>\n",
       "    </tr>\n",
       "    <tr>\n",
       "      <th>SC</th>\n",
       "      <td>111907</td>\n",
       "      <td>85</td>\n",
       "      <td>Orthodontia - Child</td>\n",
       "      <td>1817</td>\n",
       "    </tr>\n",
       "    <tr>\n",
       "      <th>SD</th>\n",
       "      <td>47730</td>\n",
       "      <td>79</td>\n",
       "      <td>Orthodontia - Adult</td>\n",
       "      <td>843</td>\n",
       "    </tr>\n",
       "    <tr>\n",
       "      <th>TN</th>\n",
       "      <td>138154</td>\n",
       "      <td>129</td>\n",
       "      <td>Basic Dental Care - Adult</td>\n",
       "      <td>2073</td>\n",
       "    </tr>\n",
       "    <tr>\n",
       "      <th>TX</th>\n",
       "      <td>465164</td>\n",
       "      <td>180</td>\n",
       "      <td>Accidental Dental</td>\n",
       "      <td>6441</td>\n",
       "    </tr>\n",
       "    <tr>\n",
       "      <th>UT</th>\n",
       "      <td>98421</td>\n",
       "      <td>101</td>\n",
       "      <td>Major Dental Care - Adult</td>\n",
       "      <td>1527</td>\n",
       "    </tr>\n",
       "    <tr>\n",
       "      <th>VA</th>\n",
       "      <td>142236</td>\n",
       "      <td>145</td>\n",
       "      <td>Accidental Dental</td>\n",
       "      <td>2256</td>\n",
       "    </tr>\n",
       "    <tr>\n",
       "      <th>WI</th>\n",
       "      <td>512587</td>\n",
       "      <td>146</td>\n",
       "      <td>Basic Dental Care - Adult</td>\n",
       "      <td>7135</td>\n",
       "    </tr>\n",
       "    <tr>\n",
       "      <th>WV</th>\n",
       "      <td>32638</td>\n",
       "      <td>77</td>\n",
       "      <td>Basic Dental Care - Child</td>\n",
       "      <td>625</td>\n",
       "    </tr>\n",
       "    <tr>\n",
       "      <th>WY</th>\n",
       "      <td>48425</td>\n",
       "      <td>92</td>\n",
       "      <td>Dental Check-Up for Children</td>\n",
       "      <td>807</td>\n",
       "    </tr>\n",
       "  </tbody>\n",
       "</table>\n",
       "</div>"
      ],
      "text/plain": [
       "          BenefitName                                              \n",
       "                count unique                              top  freq\n",
       "StateCode                                                          \n",
       "AK              41320     84  Routine Dental Services (Adult)   720\n",
       "AL              28417    115  Routine Dental Services (Adult)   653\n",
       "AR              68064     93              Orthodontia - Adult  1077\n",
       "AZ             221612    195        Major Dental Care - Adult  3345\n",
       "DE              31370    110              Orthodontia - Adult   602\n",
       "FL             364742    194              Orthodontia - Child  5130\n",
       "GA             196579    151  Routine Dental Services (Adult)  2893\n",
       "HI               6741     76  Routine Dental Services (Adult)   110\n",
       "IA             110221    104     Dental Check-Up for Children  1727\n",
       "ID              27313     71     Dental Check-Up for Children   447\n",
       "IL             320533    157              Orthodontia - Adult  4299\n",
       "IN             148531    109        Major Dental Care - Adult  2347\n",
       "KS              64279     82     Dental Check-Up for Children  1087\n",
       "LA              91816    125  Routine Dental Services (Adult)  1491\n",
       "ME              61834     99        Basic Dental Care - Child   975\n",
       "MI             189225    205        Basic Dental Care - Child  3248\n",
       "MO              95152    127              Orthodontia - Child  1577\n",
       "MS              46895    104        Basic Dental Care - Adult   725\n",
       "MT              58132     75        Basic Dental Care - Child  1049\n",
       "NC              94290     98        Major Dental Care - Adult  1537\n",
       "ND              48269     77                Accidental Dental   974\n",
       "NE              66935     90        Major Dental Care - Adult  1238\n",
       "NH              44305     98        Major Dental Care - Adult   707\n",
       "NJ              86107    100              Orthodontia - Adult  1357\n",
       "NM              56669     78              Orthodontia - Adult   828\n",
       "NV              62743    121     Dental Check-Up for Children   930\n",
       "OH             331045    193     Dental Check-Up for Children  5092\n",
       "OK             133639     83        Major Dental Care - Adult  2136\n",
       "OR              93502    123              Orthodontia - Adult  1344\n",
       "PA             260866    157  Routine Dental Services (Adult)  4208\n",
       "SC             111907     85              Orthodontia - Child  1817\n",
       "SD              47730     79              Orthodontia - Adult   843\n",
       "TN             138154    129        Basic Dental Care - Adult  2073\n",
       "TX             465164    180                Accidental Dental  6441\n",
       "UT              98421    101        Major Dental Care - Adult  1527\n",
       "VA             142236    145                Accidental Dental  2256\n",
       "WI             512587    146        Basic Dental Care - Adult  7135\n",
       "WV              32638     77        Basic Dental Care - Child   625\n",
       "WY              48425     92     Dental Check-Up for Children   807"
      ]
     },
     "execution_count": 27,
     "metadata": {},
     "output_type": "execute_result"
    }
   ],
   "source": [
    "#vamos ver o plano mais adquirido pela população por estado \n",
    "\n",
    "CostShare_df[[\"StateCode\",\"BenefitName\"]].groupby('StateCode').describe()"
   ]
  },
  {
   "cell_type": "code",
   "execution_count": 30,
   "id": "9e280efc",
   "metadata": {},
   "outputs": [],
   "source": [
    "CoinsInnTier1 = []\n",
    "YearBusiness = []\n",
    "StateCode = []\n",
    "CoinsInnTier1_real = np.asarray(CostShare_df.CoinsInnTier1)\n",
    "            \n",
    "for i, cn in enumerate(CoinsInnTier1_real):\n",
    "       if (str(cn) == 'nan' or str(cn) == '$0' or str(cn) == 'Not Applicable') :\n",
    "             continue     \n",
    "       else :\n",
    "             if  cn.replace(\"%\",\"\").strip().split(' ')[0] != 'No' :   \n",
    "                 CoinsInnTier1.append(cn.replace(\"%\",\"\").strip().split(' ')[0])\n",
    "                 YearBusiness.append(CostShare_df.BusinessYear[i])\n",
    "                 StateCode.append(CostShare_df.StateCode[i])"
   ]
  },
  {
   "cell_type": "code",
   "execution_count": 31,
   "id": "1b87a4e7",
   "metadata": {},
   "outputs": [
    {
     "data": {
      "text/plain": [
       "Coinsurance1\n",
       "0     872967\n",
       "20    699602\n",
       "30    353429\n",
       "50    221323\n",
       "10    208094\n",
       "Name: count, dtype: int64"
      ]
     },
     "execution_count": 31,
     "metadata": {},
     "output_type": "execute_result"
    }
   ],
   "source": [
    "CoinsInnTier1\n",
    "CoinsInnTier1 = pd.to_numeric(CoinsInnTier1, errors='coerce')\n",
    "Codf = pd.DataFrame(\n",
    "    {'Coinsurance1': CoinsInnTier1,\n",
    "      'YearBusiness' : YearBusiness,\n",
    "      'StateCode' : StateCode\n",
    "     })\n",
    "Codf['Coinsurance1'].value_counts().head(5)"
   ]
  },
  {
   "cell_type": "code",
   "execution_count": 37,
   "id": "8b5aa0c0",
   "metadata": {},
   "outputs": [
    {
     "data": {
      "text/html": [
       "<div>\n",
       "<style scoped>\n",
       "    .dataframe tbody tr th:only-of-type {\n",
       "        vertical-align: middle;\n",
       "    }\n",
       "\n",
       "    .dataframe tbody tr th {\n",
       "        vertical-align: top;\n",
       "    }\n",
       "\n",
       "    .dataframe thead th {\n",
       "        text-align: right;\n",
       "    }\n",
       "</style>\n",
       "<table border=\"1\" class=\"dataframe\">\n",
       "  <thead>\n",
       "    <tr style=\"text-align: right;\">\n",
       "      <th></th>\n",
       "      <th>Coinsurance1</th>\n",
       "      <th>StateCode</th>\n",
       "    </tr>\n",
       "    <tr>\n",
       "      <th>YearBusiness</th>\n",
       "      <th></th>\n",
       "      <th></th>\n",
       "    </tr>\n",
       "  </thead>\n",
       "  <tbody>\n",
       "    <tr>\n",
       "      <th>2014</th>\n",
       "      <td>11196497</td>\n",
       "      <td>AKAKAKAKAKAKAKAKAKAKAKAKAKAKAKAKAKAKAKAKAKAKAK...</td>\n",
       "    </tr>\n",
       "    <tr>\n",
       "      <th>2015</th>\n",
       "      <td>18985158</td>\n",
       "      <td>AZAZAZAZAZAZAZAZAZAZAZAZAZAZAZAZAZAZAZAZAZAZAZ...</td>\n",
       "    </tr>\n",
       "    <tr>\n",
       "      <th>2016</th>\n",
       "      <td>16426782</td>\n",
       "      <td>AKAKAKAKAKAKAKAKAKAKAKAKAKAKAKAKAKAKAKAKAKAKAK...</td>\n",
       "    </tr>\n",
       "  </tbody>\n",
       "</table>\n",
       "</div>"
      ],
      "text/plain": [
       "              Coinsurance1                                          StateCode\n",
       "YearBusiness                                                                 \n",
       "2014              11196497  AKAKAKAKAKAKAKAKAKAKAKAKAKAKAKAKAKAKAKAKAKAKAK...\n",
       "2015              18985158  AZAZAZAZAZAZAZAZAZAZAZAZAZAZAZAZAZAZAZAZAZAZAZ...\n",
       "2016              16426782  AKAKAKAKAKAKAKAKAKAKAKAKAKAKAKAKAKAKAKAKAKAKAK..."
      ]
     },
     "execution_count": 37,
     "metadata": {},
     "output_type": "execute_result"
    }
   ],
   "source": [
    "Codf.groupby('YearBusiness').sum()"
   ]
  },
  {
   "cell_type": "code",
   "execution_count": 38,
   "id": "305c9fdf",
   "metadata": {},
   "outputs": [],
   "source": [
    "Coinsarray = []\n",
    "\n",
    "Unique_Coinsurance = Codf.Coinsurance1.unique()\n",
    "for Coinsurance in Unique_Coinsurance:\n",
    "    Freq_Coinsurance =  len(Codf[Codf[\"Coinsurance1\"] == Coinsurance])    \n",
    "    Coinsarray.append(Freq_Coinsurance) "
   ]
  },
  {
   "cell_type": "code",
   "execution_count": 39,
   "id": "e0eb0055",
   "metadata": {},
   "outputs": [
    {
     "data": {
      "text/html": [
       "<div>\n",
       "<style scoped>\n",
       "    .dataframe tbody tr th:only-of-type {\n",
       "        vertical-align: middle;\n",
       "    }\n",
       "\n",
       "    .dataframe tbody tr th {\n",
       "        vertical-align: top;\n",
       "    }\n",
       "\n",
       "    .dataframe thead th {\n",
       "        text-align: right;\n",
       "    }\n",
       "</style>\n",
       "<table border=\"1\" class=\"dataframe\">\n",
       "  <thead>\n",
       "    <tr style=\"text-align: right;\">\n",
       "      <th></th>\n",
       "      <th>Coinsurance</th>\n",
       "      <th>Coinsfrequency</th>\n",
       "    </tr>\n",
       "  </thead>\n",
       "  <tbody>\n",
       "    <tr>\n",
       "      <th>0</th>\n",
       "      <td>0</td>\n",
       "      <td>872967</td>\n",
       "    </tr>\n",
       "    <tr>\n",
       "      <th>1</th>\n",
       "      <td>20</td>\n",
       "      <td>699602</td>\n",
       "    </tr>\n",
       "    <tr>\n",
       "      <th>2</th>\n",
       "      <td>30</td>\n",
       "      <td>353429</td>\n",
       "    </tr>\n",
       "    <tr>\n",
       "      <th>3</th>\n",
       "      <td>50</td>\n",
       "      <td>221323</td>\n",
       "    </tr>\n",
       "    <tr>\n",
       "      <th>4</th>\n",
       "      <td>10</td>\n",
       "      <td>208094</td>\n",
       "    </tr>\n",
       "    <tr>\n",
       "      <th>...</th>\n",
       "      <td>...</td>\n",
       "      <td>...</td>\n",
       "    </tr>\n",
       "    <tr>\n",
       "      <th>64</th>\n",
       "      <td>47</td>\n",
       "      <td>4</td>\n",
       "    </tr>\n",
       "    <tr>\n",
       "      <th>65</th>\n",
       "      <td>29</td>\n",
       "      <td>3</td>\n",
       "    </tr>\n",
       "    <tr>\n",
       "      <th>66</th>\n",
       "      <td>56</td>\n",
       "      <td>2</td>\n",
       "    </tr>\n",
       "    <tr>\n",
       "      <th>67</th>\n",
       "      <td>43</td>\n",
       "      <td>2</td>\n",
       "    </tr>\n",
       "    <tr>\n",
       "      <th>68</th>\n",
       "      <td>110</td>\n",
       "      <td>1</td>\n",
       "    </tr>\n",
       "  </tbody>\n",
       "</table>\n",
       "<p>69 rows × 2 columns</p>\n",
       "</div>"
      ],
      "text/plain": [
       "    Coinsurance  Coinsfrequency\n",
       "0             0          872967\n",
       "1            20          699602\n",
       "2            30          353429\n",
       "3            50          221323\n",
       "4            10          208094\n",
       "..          ...             ...\n",
       "64           47               4\n",
       "65           29               3\n",
       "66           56               2\n",
       "67           43               2\n",
       "68          110               1\n",
       "\n",
       "[69 rows x 2 columns]"
      ]
     },
     "execution_count": 39,
     "metadata": {},
     "output_type": "execute_result"
    }
   ],
   "source": [
    "Coins_df = pd.DataFrame(\n",
    "    {'Coinsurance': Unique_Coinsurance,\n",
    "     'Coinsfrequency' : Coinsarray\n",
    "     })\n",
    "\n",
    "Coins_df = Coins_df.sort_values(\"Coinsfrequency\", ascending=False).reset_index(drop=True)\n",
    "\n",
    "Coins_df"
   ]
  },
  {
   "cell_type": "code",
   "execution_count": 41,
   "id": "24efed01",
   "metadata": {},
   "outputs": [
    {
     "name": "stderr",
     "output_type": "stream",
     "text": [
      "100%|██████████| 10/10 [00:05<00:00,  1.99it/s]\n",
      "C:\\Users\\BRPC015042\\AppData\\Local\\Temp\\ipykernel_9808\\656257883.py:45: UserWarning:\n",
      "\n",
      "\n",
      "\n",
      "`distplot` is a deprecated function and will be removed in seaborn v0.14.0.\n",
      "\n",
      "Please adapt your code to use either `displot` (a figure-level function with\n",
      "similar flexibility) or `histplot` (an axes-level function for histograms).\n",
      "\n",
      "For a guide to updating your code to use the new functions, please see\n",
      "https://gist.github.com/mwaskom/de44147ed2974457ad6372750bbe5751\n",
      "\n",
      "\n"
     ]
    },
    {
     "name": "stdout",
     "output_type": "stream",
     "text": [
      "Iniciando o processamento...\n",
      "Processamento concluído.\n"
     ]
    },
    {
     "name": "stderr",
     "output_type": "stream",
     "text": [
      "C:\\Users\\BRPC015042\\AppData\\Local\\Temp\\ipykernel_9808\\656257883.py:46: UserWarning:\n",
      "\n",
      "\n",
      "\n",
      "`distplot` is a deprecated function and will be removed in seaborn v0.14.0.\n",
      "\n",
      "Please adapt your code to use either `displot` (a figure-level function with\n",
      "similar flexibility) or `histplot` (an axes-level function for histograms).\n",
      "\n",
      "For a guide to updating your code to use the new functions, please see\n",
      "https://gist.github.com/mwaskom/de44147ed2974457ad6372750bbe5751\n",
      "\n",
      "\n",
      "C:\\Users\\BRPC015042\\AppData\\Local\\Temp\\ipykernel_9808\\656257883.py:47: UserWarning:\n",
      "\n",
      "\n",
      "\n",
      "`distplot` is a deprecated function and will be removed in seaborn v0.14.0.\n",
      "\n",
      "Please adapt your code to use either `displot` (a figure-level function with\n",
      "similar flexibility) or `histplot` (an axes-level function for histograms).\n",
      "\n",
      "For a guide to updating your code to use the new functions, please see\n",
      "https://gist.github.com/mwaskom/de44147ed2974457ad6372750bbe5751\n",
      "\n",
      "\n"
     ]
    },
    {
     "data": {
      "image/png": "[encoded data removed]",
      "text/plain": [
       "<Figure size 1500x1000 with 6 Axes>"
      ]
     },
     "metadata": {},
     "output_type": "display_data"
    }
   ],
   "source": [
    "from tqdm import tqdm\n",
    "import time\n",
    "\n",
    "# Loop de exemplo\n",
    "for i in tqdm(range(10)):\n",
    "    time.sleep(0.5)  # Simula uma operação demorada\n",
    "    \n",
    "print(\"Iniciando o processamento...\")\n",
    "# Código de processamento aqui\n",
    "print(\"Processamento concluído.\")\n",
    "\n",
    "    \n",
    "\n",
    "#visualizando por gráficos\n",
    "\n",
    "fig, ax = plt.subplots(figsize=(15,10), ncols=3, nrows=2)\n",
    "\n",
    "left   =  0.125  # the left side of the subplots of the figure\n",
    "right  =  0.9    # the right side of the subplots of the figure\n",
    "bottom =  0.1    # the bottom of the subplots of the figure\n",
    "top    =  0.9    # the top of the subplots of the figure\n",
    "wspace =  .8     # the amount of width reserved for blank space between subplots\n",
    "hspace =  1.5    # the amount of height reserved for white space between subplots\n",
    "\n",
    "# This function actually adjusts the sub plots using the above paramters\n",
    "plt.subplots_adjust(\n",
    "    left    =  left, \n",
    "    bottom  =  bottom, \n",
    "    right   =  right, \n",
    "    top     =  top, \n",
    "    wspace  =  wspace, \n",
    "    hspace  =  hspace\n",
    ")\n",
    "\n",
    "# The amount of space above titles\n",
    "y_title_margin = 1.0\n",
    "\n",
    "ax[0][0].set_title(\"Year 2014\", y = y_title_margin)\n",
    "ax[0][1].set_title(\"Year 2015\", y = y_title_margin)\n",
    "ax[0][2].set_title(\"Year 2016\", y = y_title_margin)\n",
    "ax[1][0].set_title(\"Box Plot\", y = y_title_margin)\n",
    "ax[1][1].set_title(\"violin Plot\", y = y_title_margin)\n",
    "ax[1][2].set_title(\"Strip Plot\", y = y_title_margin)\n",
    "\n",
    "sns.distplot(Codf[Codf['YearBusiness'] == 2014]['Coinsurance1'],kde=False,bins=15,ax=ax[0][0])\n",
    "sns.distplot(Codf[Codf['YearBusiness'] == 2015]['Coinsurance1'],kde=False,bins=15,ax=ax[0][1])\n",
    "sns.distplot(Codf[Codf['YearBusiness'] == 2016]['Coinsurance1'],kde=False,bins=15,ax=ax[0][2])\n",
    "sns.boxplot(x='YearBusiness',y='Coinsurance1',data=Codf,ax=ax[1][0])\n",
    "sns.violinplot(x='YearBusiness',y='Coinsurance1',data=Codf,ax=ax[1][1])\n",
    "sns.stripplot(x='YearBusiness',y='Coinsurance1',data=Codf,jitter=True,ax=ax[1][2])\n",
    "plt.tight_layout()\n",
    "  \n",
    "    "
   ]
  },
  {
   "cell_type": "code",
   "execution_count": null,
   "id": "c91d035a",
   "metadata": {},
   "outputs": [],
   "source": []
  }
 ],
 "metadata": {
  "kernelspec": {
   "display_name": "Python 3 (ipykernel)",
   "language": "python",
   "name": "python3"
  },
  "language_info": {
   "codemirror_mode": {
    "name": "ipython",
    "version": 3
   },
   "file_extension": ".py",
   "mimetype": "text/x-python",
   "name": "python",
   "nbconvert_exporter": "python",
   "pygments_lexer": "ipython3",
   "version": "3.11.5"
  }
 },
 "nbformat": 4,
 "nbformat_minor": 5
}
